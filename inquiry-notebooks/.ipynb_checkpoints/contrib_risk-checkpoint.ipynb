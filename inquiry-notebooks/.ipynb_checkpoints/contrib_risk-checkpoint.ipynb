{
 "cells": [
  {
   "cell_type": "code",
   "execution_count": 1,
   "metadata": {},
   "outputs": [],
   "source": [
    "import psycopg2\n",
    "import pandas as pd \n",
    "# from sqlalchemy.types import Integer, Text, String, DateTime\n",
    "import sqlalchemy as s\n",
    "import matplotlib\n",
    "import numpy as np\n",
    "import seaborn as sns\n",
    "import matplotlib.pyplot as plt\n",
    "import json\n",
    "\n",
    "with open(\"config.json\") as config_file:\n",
    "    config = json.load(config_file)\n",
    "\n",
    "database_connection_string = 'postgres+psycopg2://{}:{}@{}:{}/{}'.format(config['user'], config['password'], config['host'], config['port'], config['database'])\n",
    "\n",
    "dbschema='augur_data'\n",
    "engine = s.create_engine(\n",
    "    database_connection_string,\n",
    "    connect_args={'options': '-csearch_path={}'.format(dbschema)})"
   ]
  },
  {
   "cell_type": "code",
   "execution_count": 2,
   "metadata": {},
   "outputs": [
    {
     "name": "stdout",
     "output_type": "stream",
     "text": [
      "   repo_id                repo_name                  repo_path\n",
      "0    25498                   BiG-CZ                github.com/\n",
      "1    25486                    ADIOS      github.com/ornladios/\n",
      "2    25515                diana-hep                github.com/\n",
      "3    25476              FingerPrint  github.com/rocksclusters/\n",
      "4    25490             ipop-project                github.com/\n",
      "5    25473  open-source-dataturbine        bitbucket.org/OSDT/\n"
     ]
    }
   ],
   "source": [
    "repo_list = pd.DataFrame()\n",
    "repo_list_query = f\"\"\"\n",
    "SELECT repo_id, repo_name, repo_path from repo\n",
    "WHERE repo_name = 'BiG-CZ' OR repo_name = 'ADIOS' or repo_name = 'diana-hep' or repo_name = 'FingerPrint' or\n",
    "      repo_name = 'ipop-project' or repo_name = 'open-source-dataturbine';\n",
    "    \"\"\"\n",
    "repo_list = pd.read_sql_query(repo_list_query, con=engine)\n",
    "print(repo_list)"
   ]
  },
  {
   "cell_type": "code",
   "execution_count": 3,
   "metadata": {},
   "outputs": [],
   "source": [
    "## List of repository IDs for the report\n",
    "\n",
    "repo_dict = {25498} #BiG-CZ"
   ]
  },
  {
   "cell_type": "code",
   "execution_count": 4,
   "metadata": {},
   "outputs": [
    {
     "name": "stdout",
     "output_type": "stream",
     "text": [
      "'2021-01-31'\n",
      "'2020-02-01'\n"
     ]
    }
   ],
   "source": [
    "#from datetime import date\n",
    "import datetime \n",
    "\n",
    "current = datetime.date.today()\n",
    "today = \"'\" + str(current) + \"'\"\n",
    "#print(current)\n",
    "\n",
    "first_current = current.replace(day=1)\n",
    "last_month = first_current - datetime.timedelta(days=1)\n",
    "end_date = \"'\" + str(last_month) + \"'\"\n",
    "print(end_date)\n",
    "\n",
    "start = last_month - datetime.timedelta(days=365)\n",
    "start_date = \"'\" + str(start) + \"'\"\n",
    "print(start_date)\n",
    "\n"
   ]
  },
  {
   "cell_type": "code",
   "execution_count": 5,
   "metadata": {},
   "outputs": [
    {
     "name": "stdout",
     "output_type": "stream",
     "text": [
      "2021-01-31 00:00:00+00:00\n",
      "2020-02-01 00:00:00+00:00\n"
     ]
    }
   ],
   "source": [
    "from datetime import datetime, timezone\n",
    "\n",
    "end_dt = datetime.strptime(end_date, \"'%Y-%m-%d'\").replace(tzinfo=timezone.utc)\n",
    "print(end_dt)\n",
    "\n",
    "start_dt = datetime.strptime(start_date, \"'%Y-%m-%d'\").replace(tzinfo=timezone.utc)\n",
    "print(start_dt)\n",
    "\n"
   ]
  },
  {
   "cell_type": "code",
   "execution_count": 6,
   "metadata": {},
   "outputs": [
    {
     "name": "stdout",
     "output_type": "stream",
     "text": [
      "2021-01-31 00:00:00+00:00\n",
      "2020-02-01 00:00:00+00:00\n"
     ]
    }
   ],
   "source": [
    "from datetime import datetime, timedelta, timezone\n",
    "\n",
    "#now = datetime.now(timezone.utc)\n",
    "#current = now.replace(hour=0, minute=0, second=0, microsecond=0)\n",
    "\n",
    "#end_dt = current.replace(day=1) - timedelta(days=1)\n",
    "print(end_dt)\n",
    "\n",
    "#start_dt = end_dt - timedelta(days=365)\n",
    "print(start_dt)"
   ]
  },
  {
   "cell_type": "code",
   "execution_count": 7,
   "metadata": {},
   "outputs": [],
   "source": [
    "#Commit data - from humans excluding known bots\n",
    "commitsDF = pd.DataFrame()\n",
    "for value in repo_dict: \n",
    "    commitsquery = f\"\"\"\n",
    "                    SELECT\n",
    "                        DISTINCT(cmt_commit_hash),\n",
    "                        contributors.cntrb_canonical,\n",
    "                        canonical_full_names.cntrb_full_name AS canonical_full_name,\n",
    "                        cmt_author_name, cmt_author_email, repo_id, cmt_author_timestamp \n",
    "                    FROM commits \n",
    "                        LEFT OUTER JOIN contributors ON cntrb_email = cmt_author_email left outer join \n",
    "                        (\n",
    "                            SELECT distinct on (cntrb_canonical) cntrb_full_name, cntrb_canonical, data_collection_date\n",
    "                            FROM contributors\n",
    "                            WHERE cntrb_canonical = cntrb_email\n",
    "                            order by cntrb_canonical\n",
    "                        ) canonical_full_names on canonical_full_names.cntrb_canonical = contributors.cntrb_canonical\n",
    "                    WHERE\n",
    "                        repo_id = {value}\n",
    "                        AND cmt_author_name NOT LIKE '%%utomation%%'\n",
    "                        AND cmt_author_name NOT LIKE '%%ipeline%%'\n",
    "                        AND cmt_author_name NOT LIKE '%%Cloud Foundry%%'\n",
    "                        AND cmt_author_name NOT LIKE 'snyk%%'\n",
    "                        AND cmt_author_name NOT LIKE '%%bot'\n",
    "                        AND cmt_author_name NOT LIKE 'dependabot%%'\n",
    "                        AND cmt_author_name NOT LIKE '%%Bot'\n",
    "                        AND cmt_author_name NOT LIKE '%%BOT'\n",
    "                        AND cmt_author_name != 'cfcr'\n",
    "                        AND cmt_author_name != 'CFCR'\n",
    "                        AND cmt_author_name != 'Travis CI'\n",
    "                        AND cmt_author_name != 'Cloud Foundry London'\n",
    "                        AND cmt_author_name != 'pivotal-rabbitmq-ci'\n",
    "                        AND cmt_author_name != 'Bitnami Containers'\n",
    "                        AND cmt_author_name != 'Spring Operator'\n",
    "                        AND cmt_author_name != 'Spring Buildmaster'\n",
    "--                      AND cmt_author_timestamp >= {start_date}\n",
    "--                      AND cmt_author_timestamp <= {end_date}\n",
    "                    ORDER BY\n",
    "                        cntrb_canonical;\n",
    "                    \"\"\"\n",
    "    \n",
    "    get_repo_name_query = f\"\"\"\n",
    "        SELECT repo_name from repo where repo_id = {value};\n",
    "           \"\"\"\n",
    "    get_repo_name = pd.read_sql_query(get_repo_name_query, con=engine)\n",
    "    repo_name = get_repo_name.repo_name[0]\n",
    "    \n",
    "all_commitsDF = pd.read_sql_query(commitsquery, con=engine)\n",
    "commitsDF = all_commitsDF[(all_commitsDF['cmt_author_timestamp'] > start_dt) & (all_commitsDF['cmt_author_timestamp'] < end_dt)]\n",
    "total_commits = commitsDF.cmt_commit_hash.nunique()  "
   ]
  },
  {
   "cell_type": "code",
   "execution_count": 8,
   "metadata": {},
   "outputs": [
    {
     "name": "stdout",
     "output_type": "stream",
     "text": [
      "Empty DataFrame\n",
      "Columns: [email, commits, percent]\n",
      "Index: []\n",
      "\n"
     ]
    }
   ],
   "source": [
    "authorDF = pd.DataFrame()\n",
    "authorDF = commitsDF.cntrb_canonical.value_counts()\n",
    "authorDF = authorDF.reset_index()\n",
    "authorDF.columns = ['email', 'commits']\n",
    "authorDF['percent'] = authorDF['commits'] / total_commits\n",
    "print(authorDF.head(10))\n",
    "print()"
   ]
  },
  {
   "cell_type": "markdown",
   "metadata": {},
   "source": [
    "# Still Getting Data for this\n"
   ]
  },
  {
   "cell_type": "code",
   "execution_count": 9,
   "metadata": {},
   "outputs": [
    {
     "name": "stdout",
     "output_type": "stream",
     "text": [
      "Empty DataFrame\n",
      "Columns: [name, commits, percent]\n",
      "Index: []\n"
     ]
    }
   ],
   "source": [
    "authorDF = pd.DataFrame()\n",
    "authorDF = commitsDF.canonical_full_name.value_counts()\n",
    "#authorDF = commitsDF.cmt_author_name.value_counts()\n",
    "authorDF = authorDF.reset_index()\n",
    "authorDF.columns = ['name', 'commits']\n",
    "authorDF['percent'] = authorDF['commits'] / total_commits\n",
    "print(authorDF.head(10))"
   ]
  },
  {
   "cell_type": "code",
   "execution_count": 10,
   "metadata": {},
   "outputs": [
    {
     "ename": "NameError",
     "evalue": "name 'risk_percent' is not defined",
     "output_type": "error",
     "traceback": [
      "\u001b[0;31m---------------------------------------------------------------------------\u001b[0m",
      "\u001b[0;31mNameError\u001b[0m                                 Traceback (most recent call last)",
      "\u001b[0;32m<ipython-input-10-e64ed4e124b9>\u001b[0m in \u001b[0;36m<module>\u001b[0;34m\u001b[0m\n\u001b[1;32m     68\u001b[0m     \u001b[0mtitle\u001b[0m \u001b[0;34m+=\u001b[0m \u001b[0;34m\"Healthy\"\u001b[0m\u001b[0;34m\u001b[0m\u001b[0;34m\u001b[0m\u001b[0m\n\u001b[1;32m     69\u001b[0m     \u001b[0mtitle_color\u001b[0m \u001b[0;34m=\u001b[0m \u001b[0;34m'forestgreen'\u001b[0m\u001b[0;34m\u001b[0m\u001b[0;34m\u001b[0m\u001b[0m\n\u001b[0;32m---> 70\u001b[0;31m \u001b[0mtitle\u001b[0m \u001b[0;34m+=\u001b[0m \u001b[0;34m\"\\n\"\u001b[0m \u001b[0;34m+\u001b[0m \u001b[0mstr\u001b[0m\u001b[0;34m(\u001b[0m\u001b[0mnum_people\u001b[0m\u001b[0;34m)\u001b[0m \u001b[0;34m+\u001b[0m \u001b[0;34m\" people made up \"\u001b[0m \u001b[0;34m+\u001b[0m \u001b[0;34m\"{:.0%}\"\u001b[0m\u001b[0;34m.\u001b[0m\u001b[0mformat\u001b[0m\u001b[0;34m(\u001b[0m\u001b[0mrisk_percent\u001b[0m\u001b[0;34m)\u001b[0m \u001b[0;34m+\u001b[0m \u001b[0;34m\" of the commits in the past year.\\n\"\u001b[0m\u001b[0;34m\u001b[0m\u001b[0;34m\u001b[0m\u001b[0m\n\u001b[0m\u001b[1;32m     71\u001b[0m \u001b[0;34m\u001b[0m\u001b[0m\n\u001b[1;32m     72\u001b[0m \u001b[0mrisk_bar\u001b[0m \u001b[0;34m=\u001b[0m \u001b[0msns\u001b[0m\u001b[0;34m.\u001b[0m\u001b[0mbarplot\u001b[0m\u001b[0;34m(\u001b[0m\u001b[0mx\u001b[0m\u001b[0;34m=\u001b[0m\u001b[0mnames\u001b[0m\u001b[0;34m,\u001b[0m \u001b[0my\u001b[0m\u001b[0;34m=\u001b[0m\u001b[0mcommits\u001b[0m\u001b[0;34m,\u001b[0m \u001b[0mpalette\u001b[0m\u001b[0;34m=\u001b[0m\u001b[0mbar_colors\u001b[0m\u001b[0;34m)\u001b[0m\u001b[0;34m.\u001b[0m\u001b[0mset_title\u001b[0m\u001b[0;34m(\u001b[0m\u001b[0mtitle\u001b[0m\u001b[0;34m,\u001b[0m \u001b[0mfontsize\u001b[0m\u001b[0;34m=\u001b[0m\u001b[0;36m30\u001b[0m\u001b[0;34m,\u001b[0m \u001b[0mcolor\u001b[0m\u001b[0;34m=\u001b[0m\u001b[0mtitle_color\u001b[0m\u001b[0;34m)\u001b[0m\u001b[0;34m\u001b[0m\u001b[0;34m\u001b[0m\u001b[0m\n",
      "\u001b[0;31mNameError\u001b[0m: name 'risk_percent' is not defined"
     ]
    },
    {
     "data": {
      "image/png": "[encoded data removed]",
      "text/plain": [
       "<Figure size 1728x576 with 1 Axes>"
      ]
     },
     "metadata": {},
     "output_type": "display_data"
    }
   ],
   "source": [
    "import textwrap\n",
    "\n",
    "cum_percent = 0\n",
    "people_list = []\n",
    "\n",
    "i = 1\n",
    "num_people = 0\n",
    "\n",
    "for item in authorDF.iterrows():\n",
    "    name = item[1]['name']\n",
    "    percent = item[1]['percent']\n",
    "    commits = item[1]['commits']\n",
    "    \n",
    "    cum_percent += percent\n",
    "    \n",
    "    people_list.append([name, percent, commits])\n",
    "    \n",
    "    if (cum_percent > .70 and num_people == 0):\n",
    "        num_people = i\n",
    "        risk_percent = cum_percent\n",
    "        \n",
    "    if i == 8:\n",
    "        if cum_percent <= .70:\n",
    "            risk_percent = cum_percent\n",
    "            num_people = i\n",
    "        break\n",
    "    i+=1\n",
    "    \n",
    "risk_list = []\n",
    "bar_colors = []\n",
    "\n",
    "j = 1\n",
    "for person in people_list:\n",
    "    name = person[0]\n",
    "    if len(name) > 15:\n",
    "        new_name = textwrap.wrap(name, 15)\n",
    "        name = '\\n'.join(new_name)\n",
    "    percent = person[1]\n",
    "    commits = person[2]\n",
    "    risk_list.append([name, percent, commits])\n",
    "    \n",
    "    if (num_people < 3 and j <= num_people):\n",
    "        bar_colors.append('red')\n",
    "    else:\n",
    "        bar_colors.append('lightblue')\n",
    "    \n",
    "    j+=1\n",
    "    \n",
    "\n",
    "names = [item[0] for item in risk_list]\n",
    "percents = [item[1] for item in risk_list]\n",
    "commits = [item[2] for item in risk_list]\n",
    "\n",
    "sns.set_style('ticks')\n",
    "sns.set(style=\"whitegrid\", font_scale=2)\n",
    "\n",
    "fig, ax = plt.subplots()\n",
    "\n",
    "# the size of A4 paper\n",
    "fig.set_size_inches(24, 8)\n",
    "\n",
    "title = repo_name + \"\\nContributor Risk Metric Assessment: \"\n",
    "\n",
    "if num_people < 3:\n",
    "    title += \"AT RISK\"\n",
    "    title_color = 'firebrick'\n",
    "else:\n",
    "    title += \"Healthy\"\n",
    "    title_color = 'forestgreen'\n",
    "title += \"\\n\" + str(num_people) + \" people made up \" + \"{:.0%}\".format(risk_percent) + \" of the commits in the past year.\\n\"\n",
    "\n",
    "risk_bar = sns.barplot(x=names, y=commits, palette=bar_colors).set_title(title, fontsize=30, color=title_color)\n",
    "\n",
    "risk_bar_labels = ax.set_xticklabels(names, wrap=True)\n",
    "risk_bar_labels = ax.set_ylabel('Commits')\n",
    "risk_bar_labels = ax.set_xlabel('\\nKey Contributors\\n\\nA healthy project should have at a minimum 3 people who combined account for the majority (>50%) of the commits.\\nThe higher this number is, the more likely your project would succeed if a leading contributor suddenly left the project.')\n",
    "\n",
    "i = 0\n",
    "for p in ax.patches:\n",
    "    ax.annotate(\"{:.0%}\".format(percents[i]), (p.get_x() + p.get_width() / 2., p.get_height()),\n",
    "        ha='center', va='center', color='gray', xytext=(0, 20),\n",
    "        textcoords='offset points')\n",
    "    i+=1\n"
   ]
  },
  {
   "cell_type": "code",
   "execution_count": 11,
   "metadata": {},
   "outputs": [],
   "source": [
    "from pathlib import Path\n",
    "Path(\"output/tmp/tmp2\").mkdir(parents=True, exist_ok=True)\n",
    "fig.savefig('output/tmp/tmp2/test1.png')"
   ]
  },
  {
   "cell_type": "code",
   "execution_count": null,
   "metadata": {},
   "outputs": [],
   "source": []
  },
  {
   "cell_type": "markdown",
   "metadata": {},
   "source": [
    "## Misc data exploration\n",
    "Trying to understand what's happening with the multiple canonical names"
   ]
  },
  {
   "cell_type": "code",
   "execution_count": 13,
   "metadata": {},
   "outputs": [
    {
     "ename": "IndexError",
     "evalue": "index out of bounds",
     "output_type": "error",
     "traceback": [
      "\u001b[0;31m---------------------------------------------------------------------------\u001b[0m",
      "\u001b[0;31mKeyError\u001b[0m                                  Traceback (most recent call last)",
      "\u001b[0;32m~/github/virtualenvs/acr/lib/python3.8/site-packages/pandas/core/indexes/base.py\u001b[0m in \u001b[0;36mget_value\u001b[0;34m(self, series, key)\u001b[0m\n\u001b[1;32m   4404\u001b[0m         \u001b[0;32mtry\u001b[0m\u001b[0;34m:\u001b[0m\u001b[0;34m\u001b[0m\u001b[0;34m\u001b[0m\u001b[0m\n\u001b[0;32m-> 4405\u001b[0;31m             \u001b[0;32mreturn\u001b[0m \u001b[0mself\u001b[0m\u001b[0;34m.\u001b[0m\u001b[0m_engine\u001b[0m\u001b[0;34m.\u001b[0m\u001b[0mget_value\u001b[0m\u001b[0;34m(\u001b[0m\u001b[0ms\u001b[0m\u001b[0;34m,\u001b[0m \u001b[0mk\u001b[0m\u001b[0;34m,\u001b[0m \u001b[0mtz\u001b[0m\u001b[0;34m=\u001b[0m\u001b[0mgetattr\u001b[0m\u001b[0;34m(\u001b[0m\u001b[0mseries\u001b[0m\u001b[0;34m.\u001b[0m\u001b[0mdtype\u001b[0m\u001b[0;34m,\u001b[0m \u001b[0;34m\"tz\"\u001b[0m\u001b[0;34m,\u001b[0m \u001b[0;32mNone\u001b[0m\u001b[0;34m)\u001b[0m\u001b[0;34m)\u001b[0m\u001b[0;34m\u001b[0m\u001b[0;34m\u001b[0m\u001b[0m\n\u001b[0m\u001b[1;32m   4406\u001b[0m         \u001b[0;32mexcept\u001b[0m \u001b[0mKeyError\u001b[0m \u001b[0;32mas\u001b[0m \u001b[0me1\u001b[0m\u001b[0;34m:\u001b[0m\u001b[0;34m\u001b[0m\u001b[0;34m\u001b[0m\u001b[0m\n",
      "\u001b[0;32mpandas/_libs/index.pyx\u001b[0m in \u001b[0;36mpandas._libs.index.IndexEngine.get_value\u001b[0;34m()\u001b[0m\n",
      "\u001b[0;32mpandas/_libs/index.pyx\u001b[0m in \u001b[0;36mpandas._libs.index.IndexEngine.get_value\u001b[0;34m()\u001b[0m\n",
      "\u001b[0;32mpandas/_libs/index.pyx\u001b[0m in \u001b[0;36mpandas._libs.index.IndexEngine.get_loc\u001b[0;34m()\u001b[0m\n",
      "\u001b[0;32mpandas/_libs/hashtable_class_helper.pxi\u001b[0m in \u001b[0;36mpandas._libs.hashtable.PyObjectHashTable.get_item\u001b[0;34m()\u001b[0m\n",
      "\u001b[0;32mpandas/_libs/hashtable_class_helper.pxi\u001b[0m in \u001b[0;36mpandas._libs.hashtable.PyObjectHashTable.get_item\u001b[0;34m()\u001b[0m\n",
      "\u001b[0;31mKeyError\u001b[0m: 402",
      "\nDuring handling of the above exception, another exception occurred:\n",
      "\u001b[0;31mIndexError\u001b[0m                                Traceback (most recent call last)",
      "\u001b[0;32m<ipython-input-13-e8b36f3523f8>\u001b[0m in \u001b[0;36m<module>\u001b[0;34m\u001b[0m\n\u001b[1;32m      1\u001b[0m \u001b[0mtest\u001b[0m \u001b[0;34m=\u001b[0m \u001b[0mcommitsDF\u001b[0m\u001b[0;34m.\u001b[0m\u001b[0mloc\u001b[0m\u001b[0;34m[\u001b[0m\u001b[0mcommitsDF\u001b[0m\u001b[0;34m[\u001b[0m\u001b[0;34m'cntrb_canonical'\u001b[0m\u001b[0;34m]\u001b[0m \u001b[0;34m==\u001b[0m \u001b[0;34m's@goggins.com'\u001b[0m\u001b[0;34m]\u001b[0m\u001b[0;34m.\u001b[0m\u001b[0mcanonical_full_name\u001b[0m\u001b[0;34m\u001b[0m\u001b[0;34m\u001b[0m\u001b[0m\n\u001b[0;32m----> 2\u001b[0;31m \u001b[0mprint\u001b[0m\u001b[0;34m(\u001b[0m\u001b[0mtest\u001b[0m\u001b[0;34m[\u001b[0m\u001b[0;36m402\u001b[0m\u001b[0;34m]\u001b[0m\u001b[0;34m)\u001b[0m\u001b[0;34m\u001b[0m\u001b[0;34m\u001b[0m\u001b[0m\n\u001b[0m",
      "\u001b[0;32m~/github/virtualenvs/acr/lib/python3.8/site-packages/pandas/core/series.py\u001b[0m in \u001b[0;36m__getitem__\u001b[0;34m(self, key)\u001b[0m\n\u001b[1;32m    869\u001b[0m         \u001b[0mkey\u001b[0m \u001b[0;34m=\u001b[0m \u001b[0mcom\u001b[0m\u001b[0;34m.\u001b[0m\u001b[0mapply_if_callable\u001b[0m\u001b[0;34m(\u001b[0m\u001b[0mkey\u001b[0m\u001b[0;34m,\u001b[0m \u001b[0mself\u001b[0m\u001b[0;34m)\u001b[0m\u001b[0;34m\u001b[0m\u001b[0;34m\u001b[0m\u001b[0m\n\u001b[1;32m    870\u001b[0m         \u001b[0;32mtry\u001b[0m\u001b[0;34m:\u001b[0m\u001b[0;34m\u001b[0m\u001b[0;34m\u001b[0m\u001b[0m\n\u001b[0;32m--> 871\u001b[0;31m             \u001b[0mresult\u001b[0m \u001b[0;34m=\u001b[0m \u001b[0mself\u001b[0m\u001b[0;34m.\u001b[0m\u001b[0mindex\u001b[0m\u001b[0;34m.\u001b[0m\u001b[0mget_value\u001b[0m\u001b[0;34m(\u001b[0m\u001b[0mself\u001b[0m\u001b[0;34m,\u001b[0m \u001b[0mkey\u001b[0m\u001b[0;34m)\u001b[0m\u001b[0;34m\u001b[0m\u001b[0;34m\u001b[0m\u001b[0m\n\u001b[0m\u001b[1;32m    872\u001b[0m \u001b[0;34m\u001b[0m\u001b[0m\n\u001b[1;32m    873\u001b[0m             \u001b[0;32mif\u001b[0m \u001b[0;32mnot\u001b[0m \u001b[0mis_scalar\u001b[0m\u001b[0;34m(\u001b[0m\u001b[0mresult\u001b[0m\u001b[0;34m)\u001b[0m\u001b[0;34m:\u001b[0m\u001b[0;34m\u001b[0m\u001b[0;34m\u001b[0m\u001b[0m\n",
      "\u001b[0;32m~/github/virtualenvs/acr/lib/python3.8/site-packages/pandas/core/indexes/base.py\u001b[0m in \u001b[0;36mget_value\u001b[0;34m(self, series, key)\u001b[0m\n\u001b[1;32m   4409\u001b[0m \u001b[0;34m\u001b[0m\u001b[0m\n\u001b[1;32m   4410\u001b[0m             \u001b[0;32mtry\u001b[0m\u001b[0;34m:\u001b[0m\u001b[0;34m\u001b[0m\u001b[0;34m\u001b[0m\u001b[0m\n\u001b[0;32m-> 4411\u001b[0;31m                 \u001b[0;32mreturn\u001b[0m \u001b[0mlibindex\u001b[0m\u001b[0;34m.\u001b[0m\u001b[0mget_value_at\u001b[0m\u001b[0;34m(\u001b[0m\u001b[0ms\u001b[0m\u001b[0;34m,\u001b[0m \u001b[0mkey\u001b[0m\u001b[0;34m)\u001b[0m\u001b[0;34m\u001b[0m\u001b[0;34m\u001b[0m\u001b[0m\n\u001b[0m\u001b[1;32m   4412\u001b[0m             \u001b[0;32mexcept\u001b[0m \u001b[0mIndexError\u001b[0m\u001b[0;34m:\u001b[0m\u001b[0;34m\u001b[0m\u001b[0;34m\u001b[0m\u001b[0m\n\u001b[1;32m   4413\u001b[0m                 \u001b[0;32mraise\u001b[0m\u001b[0;34m\u001b[0m\u001b[0;34m\u001b[0m\u001b[0m\n",
      "\u001b[0;32mpandas/_libs/index.pyx\u001b[0m in \u001b[0;36mpandas._libs.index.get_value_at\u001b[0;34m()\u001b[0m\n",
      "\u001b[0;32mpandas/_libs/index.pyx\u001b[0m in \u001b[0;36mpandas._libs.index.get_value_at\u001b[0;34m()\u001b[0m\n",
      "\u001b[0;32mpandas/_libs/util.pxd\u001b[0m in \u001b[0;36mpandas._libs.util.get_value_at\u001b[0;34m()\u001b[0m\n",
      "\u001b[0;32mpandas/_libs/util.pxd\u001b[0m in \u001b[0;36mpandas._libs.util.validate_indexer\u001b[0;34m()\u001b[0m\n",
      "\u001b[0;31mIndexError\u001b[0m: index out of bounds"
     ]
    }
   ],
   "source": [
    "test = commitsDF.loc[commitsDF['cntrb_canonical'] == 's@goggins.com'].canonical_full_name\n",
    "print(test[402])"
   ]
  },
  {
   "cell_type": "code",
   "execution_count": null,
   "metadata": {},
   "outputs": [],
   "source": [
    "commitsDF.loc[commitsDF['cntrb_canonical'] == 's@goggins.com']"
   ]
  },
  {
   "cell_type": "code",
   "execution_count": null,
   "metadata": {},
   "outputs": [],
   "source": []
  }
 ],
 "metadata": {
  "kernelspec": {
   "display_name": "Python 3",
   "language": "python",
   "name": "python3"
  },
  "language_info": {
   "codemirror_mode": {
    "name": "ipython",
    "version": 3
   },
   "file_extension": ".py",
   "mimetype": "text/x-python",
   "name": "python",
   "nbconvert_exporter": "python",
   "pygments_lexer": "ipython3",
   "version": "3.8.6"
  }
 },
 "nbformat": 4,
 "nbformat_minor": 4
}
