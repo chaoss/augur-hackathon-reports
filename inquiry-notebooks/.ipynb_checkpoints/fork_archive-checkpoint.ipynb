{
 "cells": [
  {
   "cell_type": "code",
   "execution_count": 1,
   "metadata": {},
   "outputs": [],
   "source": [
    "import psycopg2\n",
    "import pandas as pd \n",
    "# from sqlalchemy.types import Integer, Text, String, DateTime\n",
    "import sqlalchemy as s\n",
    "import matplotlib\n",
    "import numpy as np\n",
    "import seaborn as sns\n",
    "import matplotlib.pyplot as plt\n",
    "import json\n",
    "\n",
    "with open(\"config.json\") as config_file:\n",
    "    config = json.load(config_file)\n",
    "\n",
    "database_connection_string = 'postgres+psycopg2://{}:{}@{}:{}/{}'.format(config['user'], config['password'], config['host'], config['port'], config['database'])\n",
    "\n",
    "dbschema='augur_data'\n",
    "engine = s.create_engine(\n",
    "    database_connection_string,\n",
    "    connect_args={'options': '-csearch_path={}'.format(dbschema)})"
   ]
  },
  {
   "cell_type": "code",
   "execution_count": 2,
   "metadata": {},
   "outputs": [],
   "source": [
    "def fork_archive(repo_name, repo_path):\n",
    "    import pandas as pd\n",
    "    repo_df = pd.DataFrame()\n",
    "    repo_df_query = f\"\"\"\n",
    "            SELECT forked_from, repo_archived from repo\n",
    "            WHERE repo_name = {repo_name}\n",
    "            AND repo_path = {repo_path}\n",
    "            \"\"\"\n",
    "    repo_df = pd.read_sql_query(repo_df_query, con=engine)\n",
    "    forked = repo_df.forked_from[0]\n",
    "    archived = repo_df.repo_archived[0]\n",
    "    print(archived)\n",
    "    is_archived = 'ERROR'\n",
    "    \n",
    "    if forked != 'Parent not available':\n",
    "        is_forked = True\n",
    "    else:\n",
    "        is_forked = False\n",
    "    \n",
    "    if archived == 1:\n",
    "       is_archived = True\n",
    "    elif archived == 0:\n",
    "       is_archived = False\n",
    "\n",
    "    print(str(is_forked), str(is_archived))\n",
    "    return is_forked, is_archived\n",
    "    "
   ]
  },
  {
   "cell_type": "code",
   "execution_count": 3,
   "metadata": {},
   "outputs": [
    {
     "data": {
      "text/html": [
       "<div>\n",
       "<style scoped>\n",
       "    .dataframe tbody tr th:only-of-type {\n",
       "        vertical-align: middle;\n",
       "    }\n",
       "\n",
       "    .dataframe tbody tr th {\n",
       "        vertical-align: top;\n",
       "    }\n",
       "\n",
       "    .dataframe thead th {\n",
       "        text-align: right;\n",
       "    }\n",
       "</style>\n",
       "<table border=\"1\" class=\"dataframe\">\n",
       "  <thead>\n",
       "    <tr style=\"text-align: right;\">\n",
       "      <th></th>\n",
       "      <th>repo_path</th>\n",
       "      <th>repo_name</th>\n",
       "      <th>forked_from</th>\n",
       "    </tr>\n",
       "  </thead>\n",
       "  <tbody>\n",
       "    <tr>\n",
       "      <th>0</th>\n",
       "      <td>github.com/SRI-CSL/</td>\n",
       "      <td>OCCAM</td>\n",
       "      <td>ashish-gehani/OCCAM</td>\n",
       "    </tr>\n",
       "  </tbody>\n",
       "</table>\n",
       "</div>"
      ],
      "text/plain": [
       "             repo_path repo_name          forked_from\n",
       "0  github.com/SRI-CSL/     OCCAM  ashish-gehani/OCCAM"
      ]
     },
     "execution_count": 3,
     "metadata": {},
     "output_type": "execute_result"
    }
   ],
   "source": [
    "    repo_df = pd.DataFrame()\n",
    "    repo_df_query = f\"\"\"\n",
    "            SELECT repo_path, repo_name, forked_from from repo\n",
    "            where forked_from NOT LIKE '%%Parent%%'\n",
    "            \"\"\"\n",
    "    repo_df = pd.read_sql_query(repo_df_query, con=engine)\n",
    "    repo_df"
   ]
  },
  {
   "cell_type": "code",
   "execution_count": 4,
   "metadata": {},
   "outputs": [
    {
     "data": {
      "text/html": [
       "<div>\n",
       "<style scoped>\n",
       "    .dataframe tbody tr th:only-of-type {\n",
       "        vertical-align: middle;\n",
       "    }\n",
       "\n",
       "    .dataframe tbody tr th {\n",
       "        vertical-align: top;\n",
       "    }\n",
       "\n",
       "    .dataframe thead th {\n",
       "        text-align: right;\n",
       "    }\n",
       "</style>\n",
       "<table border=\"1\" class=\"dataframe\">\n",
       "  <thead>\n",
       "    <tr style=\"text-align: right;\">\n",
       "      <th></th>\n",
       "      <th>repo_path</th>\n",
       "      <th>repo_name</th>\n",
       "      <th>repo_archived</th>\n",
       "    </tr>\n",
       "  </thead>\n",
       "  <tbody>\n",
       "    <tr>\n",
       "      <th>0</th>\n",
       "      <td>github.com/diana-hep/</td>\n",
       "      <td>oamap</td>\n",
       "      <td>1</td>\n",
       "    </tr>\n",
       "  </tbody>\n",
       "</table>\n",
       "</div>"
      ],
      "text/plain": [
       "               repo_path repo_name  repo_archived\n",
       "0  github.com/diana-hep/     oamap              1"
      ]
     },
     "execution_count": 4,
     "metadata": {},
     "output_type": "execute_result"
    }
   ],
   "source": [
    "    repo_df = pd.DataFrame()\n",
    "    repo_df_query = f\"\"\"\n",
    "            SELECT repo_path, repo_name, repo_archived from repo\n",
    "            where repo_archived = 1\n",
    "            \"\"\"\n",
    "    repo_df = pd.read_sql_query(repo_df_query, con=engine)\n",
    "    repo_df"
   ]
  },
  {
   "cell_type": "code",
   "execution_count": 5,
   "metadata": {},
   "outputs": [
    {
     "data": {
      "text/html": [
       "<div>\n",
       "<style scoped>\n",
       "    .dataframe tbody tr th:only-of-type {\n",
       "        vertical-align: middle;\n",
       "    }\n",
       "\n",
       "    .dataframe tbody tr th {\n",
       "        vertical-align: top;\n",
       "    }\n",
       "\n",
       "    .dataframe thead th {\n",
       "        text-align: right;\n",
       "    }\n",
       "</style>\n",
       "<table border=\"1\" class=\"dataframe\">\n",
       "  <thead>\n",
       "    <tr style=\"text-align: right;\">\n",
       "      <th></th>\n",
       "      <th>forked_from</th>\n",
       "      <th>repo_archived</th>\n",
       "    </tr>\n",
       "  </thead>\n",
       "  <tbody>\n",
       "    <tr>\n",
       "      <th>0</th>\n",
       "      <td>ashish-gehani/OCCAM</td>\n",
       "      <td>0</td>\n",
       "    </tr>\n",
       "  </tbody>\n",
       "</table>\n",
       "</div>"
      ],
      "text/plain": [
       "           forked_from  repo_archived\n",
       "0  ashish-gehani/OCCAM              0"
      ]
     },
     "execution_count": 5,
     "metadata": {},
     "output_type": "execute_result"
    }
   ],
   "source": [
    "    repo_df = pd.DataFrame()\n",
    "    repo_df_query = f\"\"\"\n",
    "            SELECT forked_from, repo_archived from repo\n",
    "            where forked_from NOT LIKE '%%Parent%%'\n",
    "            \"\"\"\n",
    "    repo_df = pd.read_sql_query(repo_df_query, con=engine)\n",
    "    repo_df"
   ]
  },
  {
   "cell_type": "code",
   "execution_count": null,
   "metadata": {},
   "outputs": [],
   "source": []
  }
 ],
 "metadata": {
  "kernelspec": {
   "display_name": "Python 3",
   "language": "python",
   "name": "python3"
  },
  "language_info": {
   "codemirror_mode": {
    "name": "ipython",
    "version": 3
   },
   "file_extension": ".py",
   "mimetype": "text/x-python",
   "name": "python",
   "nbconvert_exporter": "python",
   "pygments_lexer": "ipython3",
   "version": "3.8.6"
  }
 },
 "nbformat": 4,
 "nbformat_minor": 4
}
